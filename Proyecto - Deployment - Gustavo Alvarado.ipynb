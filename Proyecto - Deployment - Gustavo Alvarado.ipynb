{
 "cells": [
  {
   "cell_type": "markdown",
   "metadata": {},
   "source": [
    "# Proyecto - Statistical Learning I\n",
    "## DEPLOYMENT\n",
    "\n",
    "Gustavo Alvarado. Carnet # 20063401"
   ]
  },
  {
   "cell_type": "code",
   "execution_count": 146,
   "metadata": {},
   "outputs": [],
   "source": [
    "import tensorflow as tf\n",
    "import pandas as pd\n",
    "import numpy as np\n",
    "from sklearn.externals import joblib\n",
    "import pickle\n",
    "from sklearn import tree\n",
    "import matplotlib.pyplot as plt\n",
    "from scipy import stats"
   ]
  },
  {
   "cell_type": "code",
   "execution_count": 147,
   "metadata": {},
   "outputs": [
    {
     "name": "stdout",
     "output_type": "stream",
     "text": [
      "Enabled compatitility to tf1.x\n"
     ]
    }
   ],
   "source": [
    "if tf.__version__.startswith(\"2.\"):\n",
    "    import tensorflow.compat.v1 as tf\n",
    "    tf.compat.v1.disable_v2_behavior()\n",
    "    tf.compat.v1.disable_eager_execution()\n",
    "    print(\"Enabled compatitility to tf1.x\")"
   ]
  },
  {
   "cell_type": "code",
   "execution_count": 22,
   "metadata": {},
   "outputs": [],
   "source": [
    "#Cargando modelos \n",
    "model_dt = joblib.load('./models/DECISION_TREE-Age-SibSp-Parch-Embarked-Fare-passenger_class-passenger_sex-total_family-with_family-age_range-fare_range.pkl')\n",
    "model_svm = joblib.load('./models/SVM-Age-SibSp-Parch-Embarked-Fare-passenger_class-passenger_sex-total_family-with_family-age_range-fare_range.pkl')\n",
    "with open('./models/NAIVE_BAYES-Age-SibSp-Parch-Embarked-Fare-passenger_class-passenger_sex-total_family-with_family-age_range-fare_range.dat', 'rb') as f:\n",
    "    model_nb = pickle.load(f)\n",
    "model_lr = np.load(\"./models/LOGISTIC_REGRESSION-lr=0.01-reg=1e-09Age-SibSp-Parch-Embarked-Fare-passenger_class-passenger_sex-total_family-with_family-age_range-fare_range.npy\", allow_pickle=True)"
   ]
  },
  {
   "cell_type": "code",
   "execution_count": 131,
   "metadata": {},
   "outputs": [],
   "source": [
    "#Cargando data\n",
    "titanic_data = pd.read_csv('final_data.csv')\n",
    "titanic_data\n",
    "\n",
    "x = titanic_data\n",
    "y = x.pop('passenger_survived')"
   ]
  },
  {
   "cell_type": "code",
   "execution_count": 63,
   "metadata": {},
   "outputs": [],
   "source": [
    "def P_x_given_y(x, mean_y, variance_y):\n",
    "    P = 1/(np.sqrt(2*np.pi*variance_y)) * np.exp((-(x-mean_y)**2)/(2*variance_y))\n",
    "    return P"
   ]
  },
  {
   "cell_type": "code",
   "execution_count": 132,
   "metadata": {},
   "outputs": [],
   "source": [
    "#Predicción con modelo Decision Tree\n",
    "y_pred_dt = model_dt.predict(x)\n",
    "#Predicción con modelo SVM\n",
    "y_pred_svm = model_svm.predict(x)\n",
    "#Predicción con modelo Naive Bayes\n",
    "y_pred_nb = y.to_frame()\n",
    "y_pred_nb['P_one'] = model_nb['p_ones']\n",
    "y_pred_nb['P_zero'] = model_nb['p_zeros']\n",
    "y_pred_nb['prediction'] = -1\n",
    "for i in range(0, len(x)):\n",
    "    for j in range(len(x.columns) - 1):\n",
    "        row_name = x.index[i]\n",
    "        column_name = x.columns[j]\n",
    "        x_one_mean = model_nb['means'].loc[1, column_name]\n",
    "        x_one_var = model_nb['var'].loc[1, column_name]\n",
    "        x_zero_mean = model_nb['means'].loc[0, column_name]\n",
    "        x_zero_var = model_nb['var'].loc[0, column_name]\n",
    "            \n",
    "        y_pred_nb.loc[row_name, 'P_one'] *= P_x_given_y(x.loc[row_name, column_name], x_one_mean, x_one_var)\n",
    "        y_pred_nb.loc[row_name, 'P_zero'] *= P_x_given_y(x.loc[row_name, column_name], x_zero_mean, x_zero_var)\n",
    "            \n",
    "        if y_pred_nb.loc[row_name, 'P_one'] > y_pred_nb.loc[row_name, 'P_zero']:\n",
    "            y_pred_nb.loc[row_name, 'prediction'] = 1\n",
    "        else:\n",
    "            y_pred_nb.loc[row_name, 'prediction'] = 0\n",
    "y_pred_nb = y_pred_nb['prediction']\n",
    "#Predicción con modelo Linear Regression\n",
    "x = x.values\n",
    "x = np.c_[np.ones((len(x))), x]\n",
    "tensor_w = tf.placeholder(tf.float32,[None, 1],\"tensor_w\")\n",
    "tensor_x = tf.placeholder(tf.float32,[None, None],\"tensor_x\")\n",
    "init = tf.global_variables_initializer() \n",
    "with tf.Session() as session:\n",
    "    session.run(init)\n",
    "    weights = model_lr\n",
    "    logits = tf.matmul(tensor_x, weights)\n",
    "    y_pred = tf.round(tf.nn.sigmoid(logits))\n",
    "    y_pred_lr = session.run(y_pred, feed_dict={tensor_x:x, tensor_w:weights})"
   ]
  },
  {
   "cell_type": "code",
   "execution_count": 145,
   "metadata": {},
   "outputs": [
    {
     "data": {
      "image/png": "[encoded data removed]",
      "text/plain": [
       "<Figure size 432x288 with 1 Axes>"
      ]
     },
     "metadata": {
      "needs_background": "light"
     },
     "output_type": "display_data"
    }
   ],
   "source": [
    "#Dibujando árbol de decisión\n",
    "tree.plot_tree(model_dt, max_depth=3, fontsize=7)\n",
    "plt.show()"
   ]
  },
  {
   "cell_type": "code",
   "execution_count": 181,
   "metadata": {},
   "outputs": [],
   "source": [
    "def predict(i):\n",
    "    #Modelo decision tree\n",
    "    print('Prediction by Decision Tree:', 'Yes' if y_pred_dt[i] == 1 else 'No')\n",
    "    #Modelo SVM\n",
    "    print('Prediction by SVM:', 'Yes' if y_pred_svm[i] == 1 else 'No')\n",
    "    #Modelo Naive bayes\n",
    "    print('Prediction by Naive Bayes:', 'Yes' if y_pred_nb[i] == 1 else 'No')\n",
    "    #Modelo Linear Regression\n",
    "    print('Prediction by Linear Bayes:', 'Yes' if y_pred_lr[i][0] == 1 else 'No')\n",
    "    print('-----------------------------------------')\n",
    "    y_pred_el = stats.mode([y_pred_dt[i], y_pred_svm[i], y_pred_nb[i], y_pred_lr[i][0]])[0][0]\n",
    "    print('Ensemble Learning Prediction:', 'Yes' if y_pred_el == 1 else 'No')\n",
    "    print('-----------------------------------------')\n",
    "    #Valor real\n",
    "    print('Survived:', 'Yes' if y[i] == 1 else 'No')\n",
    "    return "
   ]
  },
  {
   "cell_type": "markdown",
   "metadata": {},
   "source": [
    "## Predicciones"
   ]
  },
  {
   "cell_type": "code",
   "execution_count": 188,
   "metadata": {},
   "outputs": [
    {
     "name": "stdout",
     "output_type": "stream",
     "text": [
      "Prediction by Decision Tree: Yes\n",
      "Prediction by SVM: Yes\n",
      "Prediction by Naive Bayes: Yes\n",
      "Prediction by Linear Bayes: Yes\n",
      "-----------------------------------------\n",
      "Ensemble Learning Prediction: Yes\n",
      "-----------------------------------------\n",
      "Survived: Yes\n"
     ]
    }
   ],
   "source": [
    "predict(10)"
   ]
  },
  {
   "cell_type": "code",
   "execution_count": 189,
   "metadata": {},
   "outputs": [
    {
     "name": "stdout",
     "output_type": "stream",
     "text": [
      "Prediction by Decision Tree: No\n",
      "Prediction by SVM: Yes\n",
      "Prediction by Naive Bayes: No\n",
      "Prediction by Linear Bayes: No\n",
      "-----------------------------------------\n",
      "Ensemble Learning Prediction: No\n",
      "-----------------------------------------\n",
      "Survived: No\n"
     ]
    }
   ],
   "source": [
    "predict(100)"
   ]
  },
  {
   "cell_type": "code",
   "execution_count": 190,
   "metadata": {},
   "outputs": [
    {
     "name": "stdout",
     "output_type": "stream",
     "text": [
      "Prediction by Decision Tree: No\n",
      "Prediction by SVM: No\n",
      "Prediction by Naive Bayes: No\n",
      "Prediction by Linear Bayes: No\n",
      "-----------------------------------------\n",
      "Ensemble Learning Prediction: No\n",
      "-----------------------------------------\n",
      "Survived: No\n"
     ]
    }
   ],
   "source": [
    "predict(500)"
   ]
  },
  {
   "cell_type": "code",
   "execution_count": 191,
   "metadata": {},
   "outputs": [
    {
     "name": "stdout",
     "output_type": "stream",
     "text": [
      "Prediction by Decision Tree: No\n",
      "Prediction by SVM: Yes\n",
      "Prediction by Naive Bayes: Yes\n",
      "Prediction by Linear Bayes: Yes\n",
      "-----------------------------------------\n",
      "Ensemble Learning Prediction: Yes\n",
      "-----------------------------------------\n",
      "Survived: No\n"
     ]
    }
   ],
   "source": [
    "predict(654)"
   ]
  },
  {
   "cell_type": "code",
   "execution_count": 192,
   "metadata": {},
   "outputs": [
    {
     "name": "stdout",
     "output_type": "stream",
     "text": [
      "Prediction by Decision Tree: No\n",
      "Prediction by SVM: No\n",
      "Prediction by Naive Bayes: No\n",
      "Prediction by Linear Bayes: No\n",
      "-----------------------------------------\n",
      "Ensemble Learning Prediction: No\n",
      "-----------------------------------------\n",
      "Survived: No\n"
     ]
    }
   ],
   "source": [
    "predict(239)"
   ]
  },
  {
   "cell_type": "code",
   "execution_count": 193,
   "metadata": {},
   "outputs": [
    {
     "name": "stdout",
     "output_type": "stream",
     "text": [
      "Prediction by Decision Tree: No\n",
      "Prediction by SVM: No\n",
      "Prediction by Naive Bayes: No\n",
      "Prediction by Linear Bayes: No\n",
      "-----------------------------------------\n",
      "Ensemble Learning Prediction: No\n",
      "-----------------------------------------\n",
      "Survived: Yes\n"
     ]
    }
   ],
   "source": [
    "predict(444)"
   ]
  },
  {
   "cell_type": "code",
   "execution_count": 194,
   "metadata": {},
   "outputs": [
    {
     "name": "stdout",
     "output_type": "stream",
     "text": [
      "Prediction by Decision Tree: Yes\n",
      "Prediction by SVM: No\n",
      "Prediction by Naive Bayes: No\n",
      "Prediction by Linear Bayes: Yes\n",
      "-----------------------------------------\n",
      "Ensemble Learning Prediction: No\n",
      "-----------------------------------------\n",
      "Survived: No\n"
     ]
    }
   ],
   "source": [
    "predict(83)"
   ]
  },
  {
   "cell_type": "code",
   "execution_count": 195,
   "metadata": {},
   "outputs": [
    {
     "name": "stdout",
     "output_type": "stream",
     "text": [
      "Prediction by Decision Tree: Yes\n",
      "Prediction by SVM: Yes\n",
      "Prediction by Naive Bayes: Yes\n",
      "Prediction by Linear Bayes: Yes\n",
      "-----------------------------------------\n",
      "Ensemble Learning Prediction: Yes\n",
      "-----------------------------------------\n",
      "Survived: Yes\n"
     ]
    }
   ],
   "source": [
    "predict(777)"
   ]
  },
  {
   "cell_type": "code",
   "execution_count": 196,
   "metadata": {},
   "outputs": [
    {
     "name": "stdout",
     "output_type": "stream",
     "text": [
      "Prediction by Decision Tree: No\n",
      "Prediction by SVM: No\n",
      "Prediction by Naive Bayes: No\n",
      "Prediction by Linear Bayes: No\n",
      "-----------------------------------------\n",
      "Ensemble Learning Prediction: No\n",
      "-----------------------------------------\n",
      "Survived: No\n"
     ]
    }
   ],
   "source": [
    "predict(333)"
   ]
  },
  {
   "cell_type": "code",
   "execution_count": 197,
   "metadata": {},
   "outputs": [
    {
     "name": "stdout",
     "output_type": "stream",
     "text": [
      "Prediction by Decision Tree: No\n",
      "Prediction by SVM: No\n",
      "Prediction by Naive Bayes: No\n",
      "Prediction by Linear Bayes: No\n",
      "-----------------------------------------\n",
      "Ensemble Learning Prediction: No\n",
      "-----------------------------------------\n",
      "Survived: No\n"
     ]
    }
   ],
   "source": [
    "predict(50)"
   ]
  }
 ],
 "metadata": {
  "kernelspec": {
   "display_name": "Python 3",
   "language": "python",
   "name": "python3"
  },
  "language_info": {
   "codemirror_mode": {
    "name": "ipython",
    "version": 3
   },
   "file_extension": ".py",
   "mimetype": "text/x-python",
   "name": "python",
   "nbconvert_exporter": "python",
   "pygments_lexer": "ipython3",
   "version": "3.7.4"
  }
 },
 "nbformat": 4,
 "nbformat_minor": 2
}
